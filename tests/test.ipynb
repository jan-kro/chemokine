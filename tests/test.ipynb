{
 "cells": [
  {
   "cell_type": "code",
   "execution_count": 1,
   "metadata": {},
   "outputs": [],
   "source": [
    "import sys\n",
    "sys.path.append('../')\n",
    "\n",
    "\n",
    "import numpy as np\n",
    "import matplotlib.pyplot as plt\n",
    "from plot_grid import plot_grid\n",
    "import physical_units_diffusion as pud"
   ]
  },
  {
   "cell_type": "markdown",
   "metadata": {},
   "source": [
    "### The forbidden loop (scary)"
   ]
  },
  {
   "cell_type": "code",
   "execution_count": 2,
   "metadata": {},
   "outputs": [
    {
     "name": "stdout",
     "output_type": "stream",
     "text": [
      "break\n",
      "while\n",
      "break\n",
      "while\n",
      "break\n",
      "while\n",
      "break\n",
      "while\n",
      "break\n",
      "while\n",
      "for\n"
     ]
    }
   ],
   "source": [
    "for i in range(5):\n",
    "    j=0\n",
    "    flag = True\n",
    "    while flag:\n",
    "        j += 1\n",
    "        if j == 20:\n",
    "            flag = False\n",
    "            print(\"break\")\n",
    "    else:\n",
    "        print(\"while\")\n",
    "        continue\n",
    "else:\n",
    "    print(\"for\")\n"
   ]
  },
  {
   "cell_type": "code",
   "execution_count": 37,
   "metadata": {},
   "outputs": [
    {
     "name": "stdout",
     "output_type": "stream",
     "text": [
      "1.125\n"
     ]
    }
   ],
   "source": [
    "# set up toy system\n",
    "num_steps = 10\n",
    "grid_size = [30, 10]\n",
    "\n",
    "n_types = 9 # number of particle types\n",
    "\n",
    "diffusion_probability = np.array([0, 3, 2, 0.05, 1, 0.03, 0, 0, 0])\n",
    "diffusion_probability = diffusion_probability/max(diffusion_probability)/5\n",
    "\n",
    "binding_probability = np.zeros((n_types, n_types))\n",
    "binding_probability[1, 2] = 0.6 # chemokine binds to netrin\n",
    "binding_probability[2, 1] = 0.6\n",
    "binding_probability[2, 6] = 0.9 # netrin binds to collagen site \n",
    "binding_probability[6, 2] = 0.9 # netrin binds to collagen site \n",
    "binding_probability[1, 3] = 0.3 # chemokine binds to heparansulfate\n",
    "binding_probability[3, 1] = 0.3\n",
    "binding_probability[4, 6] = 0.9 # chemokine-netrin binds to collagen_site \n",
    "binding_probability[6, 4] = 0.9 # chemokine-netrin binds to collagen_site \n",
    "binding_probability[:, 0] = 1 # all particles bind to empty grid site\n",
    "binding_probability[0, :] = 1 # all particles bind to empty grid site\n",
    "\n",
    "binding_probability = binding_probability/np.max(binding_probability*diffusion_probability)/4\n",
    "\n",
    "initial_positions = np.random.choice([0, 1, 2, 3, 4, 5], size=(grid_size[0], grid_size[1]), p=[0.5, 0.1, 0.08, 0.3, 0.01, 0.01])\n",
    "\n",
    "\n",
    "\n",
    "type_tags = np.arange(1, n_types+1) # 1 = chemokine, 2 = netrin, ...\n",
    "n_all = np.zeros(n_types, dtype=int) # number of particles of each type\n",
    "\n",
    "l_x = initial_positions.shape[0]\n",
    "l_y = initial_positions.shape[1]\n",
    "\n",
    "# create coordinates (= indices) list for every particle type\n",
    "pos_idx_all = [np.zeros((l_x*l_y, 2), dtype=int) for _ in range(n_types)]\n",
    "\n",
    "# fill coordinate lists and find number of particles\n",
    "for i in range(l_x):\n",
    "    for j in range(l_y):\n",
    "        for k, tag in enumerate(type_tags):\n",
    "            if initial_positions[i, j] == tag:  \n",
    "                pos_idx_all[k][n_all[k]] = [i, j]\n",
    "                n_all[k] += 1\n",
    "\n",
    "# delete empty entries in coordinate lists\n",
    "for k in range(n_types):\n",
    "    pos_idx_all[k] = pos_idx_all[k][:n_all[k]]"
   ]
  },
  {
   "cell_type": "markdown",
   "metadata": {},
   "source": [
    "### Test get_neighbours()"
   ]
  },
  {
   "cell_type": "code",
   "execution_count": 7,
   "metadata": {},
   "outputs": [
    {
     "name": "stdout",
     "output_type": "stream",
     "text": [
      "positions:\n",
      "[[1 2 3]\n",
      " [4 5 6]\n",
      " [7 8 9]] \n",
      "\n",
      "neighbours of particle [0 2]:\n",
      "[[[0 0 0 0]\n",
      "  [0 0 0 0]\n",
      "  [6 0 1 2]]\n",
      "\n",
      " [[0 0 0 0]\n",
      "  [0 0 0 0]\n",
      "  [0 0 0 0]]\n",
      "\n",
      " [[0 0 0 0]\n",
      "  [0 0 0 0]\n",
      "  [0 0 0 0]]] \n",
      "\n"
     ]
    }
   ],
   "source": [
    "from monte_carlo_chemokine import _get_neighbours\n",
    "\n",
    "pos = np.array([[1,2,3],[4, 5, 6], [7, 8, 9]])\n",
    "\n",
    "print(\"positions:\")\n",
    "print(pos, \"\\n\")\n",
    "\n",
    "pos_idx = np.array([0, 2])\n",
    "reflection_x = True\n",
    "l_x = pos.shape[0]\n",
    "\n",
    "neighbours = np.zeros((pos.shape[0], pos.shape[1], 4), dtype=int)\n",
    "\n",
    "neighbours[i, j] = _get_neighbours(pos, pos_idx, reflection_x, l_x=l_x)\n",
    "\n",
    "print(f\"neighbours of particle {pos_idx}:\")\n",
    "print(neighbours, \"\\n\")\n"
   ]
  },
  {
   "cell_type": "markdown",
   "metadata": {},
   "source": [
    "### Test get transition probs"
   ]
  },
  {
   "cell_type": "code",
   "execution_count": 10,
   "metadata": {},
   "outputs": [
    {
     "name": "stdout",
     "output_type": "stream",
     "text": [
      "transition probability:\n",
      "[0.000e+00 0.000e+00 2.500e-04 2.500e-04 9.995e-01] \n",
      "\n",
      "sum of transition probability:\n",
      "1.0 \n",
      "\n",
      "positions of type 1:\n",
      "[[ 0  0]\n",
      " [ 1  0]\n",
      " [ 2  3]\n",
      " [ 2  5]\n",
      " [ 4  1]\n",
      " [ 4  5]\n",
      " [ 6  8]\n",
      " [ 7  1]\n",
      " [ 7  3]\n",
      " [ 8  1]\n",
      " [ 8  7]\n",
      " [ 9  3]\n",
      " [10  5]\n",
      " [14  2]\n",
      " [14  7]\n",
      " [14  8]\n",
      " [16  0]\n",
      " [16  1]\n",
      " [16  7]\n",
      " [17  6]\n",
      " [18  6]\n",
      " [20  1]\n",
      " [20  5]\n",
      " [22  9]\n",
      " [25  2]\n",
      " [25  6]\n",
      " [25  7]\n",
      " [26  0]\n",
      " [26  2]\n",
      " [26  7]\n",
      " [27  6]\n",
      " [28  7]\n",
      " [28  8]\n",
      " [29  1]] \n",
      "\n"
     ]
    }
   ],
   "source": [
    "from monte_carlo_chemokine import _get_transition_prob\n",
    "\n",
    "transition_probability = np.zeros(5)\n",
    "transition_probability = _get_transition_prob(initial_positions, pos_idx_all[0][0], transition_probability, diffusion_probability, binding_probability, reflection_x = True, l_x = l_x)\n",
    "print(\"transition probability:\")\n",
    "print(transition_probability, \"\\n\")\n",
    "print(\"sum of transition probability:\")\n",
    "print(np.sum(transition_probability), \"\\n\")\n",
    "print(\"positions of type 1:\")\n",
    "print(pos_idx_all[0], \"\\n\")"
   ]
  },
  {
   "cell_type": "markdown",
   "metadata": {},
   "source": [
    "### Plot frame"
   ]
  },
  {
   "cell_type": "code",
   "execution_count": 31,
   "metadata": {},
   "outputs": [
    {
     "name": "stdout",
     "output_type": "stream",
     "text": [
      "All positions:\n"
     ]
    },
    {
     "data": {
      "image/png": "[encoded data removed]",
      "text/plain": [
       "<Figure size 2000x666.667 with 1 Axes>"
      ]
     },
     "metadata": {},
     "output_type": "display_data"
    },
    {
     "name": "stdout",
     "output_type": "stream",
     "text": [
      "Transition probability for particle 0 of type 1:\n",
      "[0.000e+00 0.000e+00 2.500e-04 2.500e-04 9.995e-01] \n",
      "\n",
      "Position of this particle:\n"
     ]
    },
    {
     "data": {
      "image/png": "[encoded data removed]",
      "text/plain": [
       "<Figure size 2000x666.667 with 1 Axes>"
      ]
     },
     "metadata": {},
     "output_type": "display_data"
    }
   ],
   "source": [
    "# find indices of particle type\n",
    "\n",
    "print(\"All positions:\")\n",
    "plot_grid(initial_positions)\n",
    "\n",
    "pos_idx_1 = np.where(initial_positions == 1)\n",
    "pos_1 = np.zeros_like(initial_positions)\n",
    "pos_1[pos_idx_1] = initial_positions[pos_idx_1]\n",
    "#plot_grid(pos_1)\n",
    "pos_2 = np.zeros_like(initial_positions)\n",
    "pos_2[pos_idx_all[0][0][0], pos_idx_all[0][0][0]] = 1\n",
    "print(\"Transition probability for particle 0 of type 1:\")\n",
    "transition_probability = np.zeros(5)\n",
    "transition_probability = _get_transition_prob(initial_positions, pos_idx_all[0][0], transition_probability, diffusion_probability, binding_probability, reflection_x = True, l_x = l_x)\n",
    "print(transition_probability, \"\\n\")\n",
    "print(\"Position of this particle:\")\n",
    "plot_grid(pos_2)\n"
   ]
  },
  {
   "cell_type": "markdown",
   "metadata": {},
   "source": [
    "### Move particle"
   ]
  },
  {
   "cell_type": "code",
   "execution_count": 95,
   "metadata": {},
   "outputs": [
    {
     "name": "stdout",
     "output_type": "stream",
     "text": [
      "[0.000e+00 0.000e+00 2.500e-04 2.500e-04 9.995e-01]\n",
      "[0 0]\n",
      "[ 0 -1]\n",
      "[ 0 -1]\n",
      "[0 9]\n"
     ]
    }
   ],
   "source": [
    "step_choice = np.array([[1, 0], [-1, 0], [0, 1], [0, -1], [0, 0]]) \n",
    "\n",
    "for i in range(10000):\n",
    "    shift = step_choice[np.random.choice(5, p=transition_probability)]\n",
    "    if shift[1] == -1:\n",
    "        break\n",
    "    \n",
    "pos_idx = pos_idx_all[0][0]\n",
    "new_pos_idx = pos_idx + shift\n",
    "\n",
    "new_pos_idx_wrapped = new_pos_idx%[l_x, l_y]\n",
    "\n",
    "print(transition_probability)\n",
    "print(pos_idx)\n",
    "print(shift)\n",
    "print(new_pos_idx)\n",
    "print(new_pos_idx_wrapped)"
   ]
  },
  {
   "cell_type": "code",
   "execution_count": 107,
   "metadata": {},
   "outputs": [
    {
     "name": "stdout",
     "output_type": "stream",
     "text": [
      "[[[1, 2], [3, 4]], [[5, 6], [7, 8]]]\n",
      "False\n",
      "True\n",
      "\n",
      "True\n",
      "True\n",
      "True\n",
      "\n",
      "1\n",
      "(30, 10)\n",
      "0\n",
      "(30, 10)\n"
     ]
    }
   ],
   "source": [
    "x = [[[1,2],[3,4]], [[5,6],[7,8]]]\n",
    "print(x)\n",
    "print([1,2] in x)\n",
    "print([[1,2],[3,4]] in x)\n",
    "y = np.array(x)\n",
    "print()\n",
    "print([1,2] in y)\n",
    "print([1,3] in y)\n",
    "print([1,4] in y)\n",
    "print()\n",
    "pos_moved = np.zeros_like(initial_positions, dtype=bool)\n",
    "pos_moved[0, 1] = True\n",
    "print(np.sum(pos_moved))\n",
    "print(pos_moved.shape)\n",
    "pos_moved.fill(False)\n",
    "print(np.sum(pos_moved))\n",
    "print(pos_moved.shape)"
   ]
  },
  {
   "cell_type": "code",
   "execution_count": 59,
   "metadata": {},
   "outputs": [
    {
     "name": "stdout",
     "output_type": "stream",
     "text": [
      "49808\n",
      "75206\n",
      "1\n"
     ]
    }
   ],
   "source": [
    "# test unbinding\n",
    "neighbours = np.array([1, 0, 0, 1], dtype=int)\n",
    "\n",
    "step_choice = np.array([[1, 0], [-1, 0], [0, 1], [0, -1], [0, 0]]) \n",
    "\n",
    "unbond_type_idx = np.zeros((n_types, 2), dtype=int)\n",
    "unbond_type_idx[4] = [1, 2] # chemokine-netrin -> chemokine + netrin\n",
    "unbond_type_idx[5] = [1, 3] # chemokine-heparansulfate -> chemokine + heparansulfate\n",
    "# collagen is not allowed to move, so only chemokine-netrin can hop off\n",
    "unbond_type_idx[7] = [4, 6] # chemokine-netrin-collagen_site -> chemokine-netrin + collagen_site\n",
    "# NOTE: in the above case, is it possible for only chemokine to hop off?\n",
    "unbond_type_idx[8] = [2, 6] # netrin-collagen_site -> netrin + collagen_site\n",
    "\n",
    "tag = 7\n",
    "idx_x = 12\n",
    "idx_y = 0\n",
    "l_x = 30\n",
    "l_y = 10\n",
    "step = 5\n",
    "trajectory = np.zeros((num_steps, l_x, l_y), dtype=int)\n",
    "\n",
    "p = neighbours==0\n",
    "num_no_neighbours = p.sum()\n",
    "\n",
    "\n",
    "ncase1 = 0\n",
    "ncase2 = 0\n",
    "T = np.array([0.5, 0.5])\n",
    "\n",
    "for i in range(100000):\n",
    "    pp = np.random.rand()\n",
    "    A = pp < num_no_neighbours*diffusion_probability[unbond_type_idx[tag][0]]/binding_probability[*unbond_type_idx[tag]]\n",
    "    B = pp < num_no_neighbours*diffusion_probability[unbond_type_idx[tag][1]]/binding_probability[*unbond_type_idx[tag]]\n",
    "    C = pp < num_no_neighbours*diffusion_probability[unbond_type_idx[tag]]/binding_probability[*unbond_type_idx[tag]]\n",
    "    D = num_no_neighbours*diffusion_probability[unbond_type_idx[tag]]/binding_probability[*unbond_type_idx[tag]]\n",
    "    E = pp < T\n",
    "    # if C[0] or C[1]:\n",
    "    #     ncase1 += 1\n",
    "    # if np.random.rand() < D[0] or np.random.rand() < D[1]:\n",
    "    #     ncase2 += 1\n",
    "    if E[0] or E[1]:\n",
    "        ncase1 += 1\n",
    "    if np.random.rand() < T[0] or np.random.rand() < T[1]:\n",
    "        ncase2 += 1\n",
    "    xx = np.random.choice(2, size=2, replace=False)\n",
    "    if xx[0] == xx[1]:\n",
    "        print(\"Wrong\")\n",
    "\n",
    "print(ncase1)\n",
    "print(ncase2)\n",
    "\n",
    "if True:\n",
    "    print(1)\n",
    "elif True:\n",
    "    print(2)\n",
    "\n",
    "\n",
    "\n",
    "if 0 in neighbours:\n",
    "    idx_no_nieghbours = neighbours==0\n",
    "    num_no_neighbours = p.sum()\n",
    "    \n",
    "    # decide which particle type gets checked for unbonding first\n",
    "    tag_1st, tag_2nd = unbond_type_idx[tag][np.random.choice(2, size=2, replace=False)]\n",
    "\n",
    "    for tag_move in [tag_1st, tag_2nd]:\n",
    "        # if the barticle did not unbond yet\n",
    "        if not pos_moved[idx_x, idx_y]:\n",
    "            p_unbond = \n",
    "    \n",
    "    # roll if unbinding happens\n",
    "    # check for both possible unbonding types\n",
    "    #! is this ok???\n",
    "    if np.random.rand() < num_no_neighbours*diffusion_probability[tag_1st]/binding_probability[tag_1st, tag_2nd]:\n",
    "        # roll in which direction to go\n",
    "        step_idx = np.random.choice(4, p=p/num_no_neighbours)\n",
    "        \n",
    "        # update position and wrap around\n",
    "        new_idx_x = (idx_x + step_choice[step_idx, 0])%l_x\n",
    "        new_idx_y = (idx_y + step_choice[step_idx, 1])%l_y\n",
    "\n",
    "        # update trajectory\n",
    "        trajectory[step, idx_x, idx_y] = tag_2nd # leave 2nd particle on same spot\n",
    "        trajectory[step, new_idx_x, new_idx_y] = tag_1st # move 1st particle to new spot\n",
    "    \n",
    "        \n",
    "        # mark particles as moved\n",
    "        pos_moved[idx_x, idx_y] = True\n",
    "        pos_moved[new_idx_x, new_idx_y] = True\n",
    "        \n",
    "        \n",
    "    elif np.random.rand() < num_no_neighbours*diffusion_probability[tag_2nd]/binding_probability[tag_1st, tag_2nd]:\n",
    "        # roll in which direction to go\n",
    "        step_idx = np.random.choice(4, p=p/num_no_neighbours)\n",
    "        \n",
    "        # update position and wrap around\n",
    "        new_idx_x = (idx_x + step_choice[step_idx, 0])%l_x\n",
    "        new_idx_y = (idx_y + step_choice[step_idx, 1])%l_y\n",
    "        \n",
    "        # update trajectory\n",
    "        trajectory[step, idx_x, idx_y] = tag_2nd # leave 2nd particle on same spot\n",
    "        trajectory[step, new_idx_x, new_idx_y] = tag_1st # move 1st particle to new spot\n",
    "        \n",
    "        # mark particles as moved\n",
    "        pos_moved[idx_x, idx_y] = True\n",
    "        pos_moved[new_idx_x, new_idx_y] = True"
   ]
  },
  {
   "cell_type": "code",
   "execution_count": 60,
   "metadata": {},
   "outputs": [],
   "source": [
    "def _unbonding_prob(pos, i, j, tag_move, tag_stay, neighbours, transition_prob, diffusion_probability_move, binding_probability, reflection_x: bool = True, l_x: int = None):\n",
    "    \n",
    "    \n",
    "    binding_probability = binding_probability[tag_move, tag_stay]\n",
    "    # check for (un)allowed moves\n",
    "    if reflection_x:\n",
    "        if idx_x == 0:\n",
    "            neighbours[0] = pos[:, idx_y].take(idx_x+1, mode=\"wrap\") # +x\n",
    "            neighbours[1] = 1 # wall                                                   # -x    \n",
    "        elif idx_x == l_x-1:\n",
    "            neighbours[0] = 1 # wall                                                   # +x\n",
    "            neighbours[1] = pos[:, idx_y].take(idx_x-1, mode=\"wrap\") # -x\n",
    "        else:\n",
    "            neighbours[[0,1]] = pos[:, idx_y].take([idx_x+1, idx_x-1], mode=\"wrap\") # +x, -x\n",
    "        \n",
    "        neighbours[[2,3]] =  pos[idx_x, :].take([idx_y+1, idx_y-1], mode=\"wrap\") # +y, -y\n",
    "    else:  \n",
    "        neighbours[[0,1]] = pos[:, idx_y].take([idx_x+1, idx_x-1], mode=\"wrap\") # +x, -x\n",
    "        neighbours[[2,3]] =  pos[idx_x, :].take([idx_y+1, idx_y-1], mode=\"wrap\") # +y, -y\n",
    "    \n",
    "    for k, nb in enumerate(neighbours):\n",
    "        if nb==0:\n",
    "            transition_prob[k] = diffusion_probability_move/binding_probability\n",
    "        else:\n",
    "            transition_prob[k] = 0\n",
    "    \n",
    "    # normalize transition probability\n",
    "    transition_prob[4] = 1 - np.sum(transition_prob[:4])\n",
    "    \n",
    "    return transition_prob\n",
    "    "
   ]
  },
  {
   "cell_type": "code",
   "execution_count": 70,
   "metadata": {},
   "outputs": [
    {
     "name": "stdout",
     "output_type": "stream",
     "text": [
      "[0. 0. 0. 0. 1.]\n",
      "1.0\n"
     ]
    }
   ],
   "source": [
    "tb = np.zeros(5)\n",
    "tag_move, tag_stay = unbond_type_idx[tag][np.random.choice(2, size=2, replace=False)]\n",
    "tb = _unbonding_prob(initial_positions, idx_x, idx_y, tag_move, tag_stay, neighbours, tb, diffusion_probability[tag_move], binding_probability, reflection_x = True, l_x = l_x)\n",
    "print(tb)\n",
    "print(np.sum(tb))"
   ]
  },
  {
   "cell_type": "markdown",
   "metadata": {},
   "source": [
    "### Test physical units"
   ]
  },
  {
   "cell_type": "code",
   "execution_count": 4,
   "metadata": {},
   "outputs": [
    {
     "name": "stdout",
     "output_type": "stream",
     "text": [
      "[1.3273784776637227e-10, 8.997793605645697e-11, 4.1938735768205827e-11, 8.22020489798065e-11, 4.0611782001668246e-11, 7.171422963670905e-13, 7.171422963670905e-13, 7.171422963670905e-13]\n"
     ]
    }
   ],
   "source": [
    "molecule_mass = [\n",
    "        15.77, # kDa (CCL5) https://www.rcsb.org/structure/5COY\n",
    "        50.63, # kDa (Netrin-1) https://www.rcsb.org/structure/4OVE\n",
    "        500, # kDa (heperansulfate) made up\n",
    "        15.77 + 50.63,\n",
    "        500 + 50.63,\n",
    "        99999999,\n",
    "        99999999,\n",
    "        99999999\n",
    "]\n",
    "\n",
    "diffusivities = []\n",
    "\n",
    "for m in molecule_mass:\n",
    "    diffusivities.append(pud.estimate_diffusivity(m))\n",
    "    \n",
    "print(diffusivities)\n"
   ]
  },
  {
   "cell_type": "markdown",
   "metadata": {},
   "source": [
    "## Use random values in the right order of magnitude to get a feeling for jumping probabilities, grid size and time step"
   ]
  },
  {
   "cell_type": "code",
   "execution_count": 2,
   "metadata": {},
   "outputs": [],
   "source": [
    "from physical_units_diffusion import *"
   ]
  },
  {
   "cell_type": "code",
   "execution_count": 10,
   "metadata": {},
   "outputs": [
    {
     "name": "stdout",
     "output_type": "stream",
     "text": [
      "probs (array([7.53309009e-09, 9.75859328e-09, 4.74554939e-09, 2.77521412e-09,\n",
      "       5.97901757e-09]), array([0.99999997, 0.99999996, 0.99999998, 0.99999999, 0.99999998]))\n",
      "probs neighbors [6.82594711e-05 2.50000000e-01 6.31527876e-05 7.55886570e-07\n",
      " 3.01655470e-04 3.60100783e-06 1.02840434e-06 0.00000000e+00\n",
      " 0.00000000e+00 0.00000000e+00] 0.25\n",
      "[ 700  100 3000 1000  200] 1.1921464774740315e-07 9.47924439204155e-13\n",
      "[7.e-08 1.e-08 3.e-07 1.e-07 2.e-08]\n"
     ]
    }
   ],
   "source": [
    "energy_matrix = np.random.rand(25) * 18.8 + 0 # between 10-20 in exp\n",
    "energy_matrix = energy_matrix.reshape((5, 5))\n",
    "energy_matrix = (energy_matrix + energy_matrix.T) / 2 # symmetric\n",
    "energy_matrix -= np.eye(5) * np.diag(energy_matrix) # no selfbinding\n",
    "diffusivity_array = estimate_diffusivity(np.array([50, 23, 200, 1000, 100]))\n",
    "\n",
    "ratio = calc_time_step_ratio(energy_matrix, diffusivity_array)\n",
    "print('probs', calc_probabilities_free(ratio, diffusivity_array))\n",
    "print('probs neighbors', calc_probabilities_with_neighbor(energy_matrix, diffusivity_array), np.max(calc_probabilities_with_neighbor(energy_matrix, diffusivity_array)))\n",
    "\n",
    "concentrations = np.array([70, 10, 300, 100, 20]) * 1e-9 #random concentrations in nanomolar\n",
    "n_min = 100\n",
    "grid_dim = (100, 100)\n",
    "n_species, a_grid, time_step = calc_nspecies_gridconst(ratio, concentrations, n_min, grid_dim)\n",
    "print(n_species, a_grid, time_step)\n",
    "\n",
    "print(physical_concentration(n_species, grid_dim, a_grid)) # reproduces input concentrations"
   ]
  },
  {
   "cell_type": "code",
   "execution_count": null,
   "metadata": {},
   "outputs": [],
   "source": []
  }
 ],
 "metadata": {
  "kernelspec": {
   "display_name": "chemokine",
   "language": "python",
   "name": "python3"
  },
  "language_info": {
   "codemirror_mode": {
    "name": "ipython",
    "version": 3
   },
   "file_extension": ".py",
   "mimetype": "text/x-python",
   "name": "python",
   "nbconvert_exporter": "python",
   "pygments_lexer": "ipython3",
   "version": "3.9.7"
  },
  "orig_nbformat": 4
 },
 "nbformat": 4,
 "nbformat_minor": 2
}
