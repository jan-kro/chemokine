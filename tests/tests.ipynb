{
 "cells": [
  {
   "cell_type": "code",
   "execution_count": 1,
   "metadata": {},
   "outputs": [],
   "source": [
    "import numpy as np\n",
    "from datetime import datetime\n",
    "import os"
   ]
  },
  {
   "cell_type": "markdown",
   "metadata": {},
   "source": [
    "### Just random testing stuff"
   ]
  },
  {
   "cell_type": "code",
   "execution_count": 11,
   "metadata": {},
   "outputs": [
    {
     "name": "stdout",
     "output_type": "stream",
     "text": [
      "2023-09-23_12h-14m-33s\n",
      "/home/janmak98/Documents/masterthesis/chemokine/monte_carlo/figures/sim_2023-09-23_12h-14m-33s.mp4\n"
     ]
    }
   ],
   "source": [
    "now = datetime.now().strftime(\"%Y-%m-%d_%Hh-%Mm-%Ss\")\n",
    "print(now)\n",
    "\n",
    "outf = os.path.join(os.getcwd(), 'figures', 'sim_'+now+'.mp4')\n",
    "print(outf)"
   ]
  },
  {
   "cell_type": "code",
   "execution_count": 101,
   "metadata": {},
   "outputs": [
    {
     "name": "stdout",
     "output_type": "stream",
     "text": [
      "[[1.         1.         1.        ]\n",
      " [1.         1.62450479 1.62450479]\n",
      " [1.         2.15766928 2.15766928]\n",
      " [1.         2.63901582 2.63901582]\n",
      " [1.         3.08516931 3.08516931]]\n",
      "[[0.33333333 0.33333333 0.33333333]\n",
      " [0.23534896 0.38232552 0.38232552]\n",
      " [0.18813477 0.40593261 0.40593261]\n",
      " [0.15928559 0.4203572  0.4203572 ]\n",
      " [0.13946343 0.43026829 0.43026829]]\n",
      "[0.33333333 0.33333333 0.33333333]\n",
      "[[ 0  1]\n",
      " [ 1  0]\n",
      " [-1  1]\n",
      " [ 1 -1]\n",
      " [-1  0]\n",
      " [ 1  1]\n",
      " [ 1  0]\n",
      " [ 0 -1]\n",
      " [ 1  0]\n",
      " [ 1  0]]\n"
     ]
    }
   ],
   "source": [
    "\n",
    "particle_diffusivity = [1, 2, 3,4, 5]\n",
    "friction = np.array(particle_diffusivity)**0.7\n",
    "# print(friction)\n",
    "# print(particle_diffusivity)\n",
    "# print(np.array(particle_diffusivity))\n",
    "# uno = np.array([1,1,1], ndmin=2).T\n",
    "# print(uno)\n",
    "# prob = np.append(uno, friction.T, axis=1)\n",
    "# prob = np.append(prob, friction.T, axis=1)\n",
    "# print(prob)\n",
    "# print(np.array([np.array([1,1,1], ndmin=2).T, np.array(friction, ndmin=2).T, friction]).T)\n",
    "probabilities = np.array([np.array([1,1,1,1,1]), np.array(friction), np.array(friction)]).T\n",
    "#probabilities = np.array([[1,1,1], particle_diffusivity, particle_diffusivity]).T\n",
    "print(probabilities)\n",
    "probabilities = probabilities/np.sum(probabilities, axis=1, keepdims=True)\n",
    "\n",
    "print(probabilities)\n",
    "step_choice = np.array([0, 1, -1])\n",
    "n_particles_0 = 10\n",
    "\n",
    "step = np.random.choice(step_choice, size=(n_particles_0, 2), p=probabilities[0])\n",
    "\n",
    "print(probabilities[0])\n",
    "# print(probabilities[1].shape)\n",
    "# print(np.sum(probabilities[1]))\n",
    "print(step)"
   ]
  },
  {
   "cell_type": "code",
   "execution_count": 1,
   "metadata": {},
   "outputs": [
    {
     "ename": "NameError",
     "evalue": "name 'np' is not defined",
     "output_type": "error",
     "traceback": [
      "\u001b[0;31m---------------------------------------------------------------------------\u001b[0m",
      "\u001b[0;31mNameError\u001b[0m                                 Traceback (most recent call last)",
      "\u001b[1;32m/home/janmak98/Documents/masterthesis/chemokine/monte_carlo/tests/tests.ipynb Cell 5\u001b[0m line \u001b[0;36m1\n\u001b[0;32m----> <a href='vscode-notebook-cell://ssh-remote%2Bbunsen.physik.fu-berlin.de/home/janmak98/Documents/masterthesis/chemokine/monte_carlo/tests/tests.ipynb#W3sdnNjb2RlLXJlbW90ZQ%3D%3D?line=0'>1</a>\u001b[0m pos \u001b[39m=\u001b[39m np\u001b[39m.\u001b[39mrandom\u001b[39m.\u001b[39mrandint(\u001b[39m0\u001b[39m, \u001b[39m10\u001b[39m, size\u001b[39m=\u001b[39m(\u001b[39m10\u001b[39m, \u001b[39m2\u001b[39m))\n\u001b[1;32m      <a href='vscode-notebook-cell://ssh-remote%2Bbunsen.physik.fu-berlin.de/home/janmak98/Documents/masterthesis/chemokine/monte_carlo/tests/tests.ipynb#W3sdnNjb2RlLXJlbW90ZQ%3D%3D?line=2'>3</a>\u001b[0m \u001b[39mprint\u001b[39m(pos)\n\u001b[1;32m      <a href='vscode-notebook-cell://ssh-remote%2Bbunsen.physik.fu-berlin.de/home/janmak98/Documents/masterthesis/chemokine/monte_carlo/tests/tests.ipynb#W3sdnNjb2RlLXJlbW90ZQ%3D%3D?line=3'>4</a>\u001b[0m collagen_y \u001b[39m=\u001b[39m \u001b[39m5\u001b[39m\n",
      "\u001b[0;31mNameError\u001b[0m: name 'np' is not defined"
     ]
    }
   ],
   "source": [
    "pos = np.random.randint(0, 10, size=(10, 2))\n",
    "\n",
    "print(pos)\n",
    "collagen_y = 5\n",
    "\n",
    "idx_fixed = np.where(pos[:, 1] == collagen_y)[0]\n",
    "print(idx_fixed)\n",
    "\n",
    "print(pos[idx_fixed])\n",
    "print(idx_fixed.shape[0])"
   ]
  },
  {
   "cell_type": "code",
   "execution_count": null,
   "metadata": {},
   "outputs": [
    {
     "name": "stdout",
     "output_type": "stream",
     "text": [
      "[[ 9  1]\n",
      " [ 0  7]\n",
      " [ 2 11]\n",
      " [ 9  5]\n",
      " [ 6  6]]\n"
     ]
    }
   ],
   "source": [
    "grid_size = [10, 12]\n",
    "n_particles_3 = 5\n",
    "\n",
    "pos_3x = np.random.randint(0, grid_size[0], size=(n_particles_3))\n",
    "pos_3y = np.random.randint(0, grid_size[1], size=(n_particles_3))\n",
    "pos_3 = np.array([pos_3x, pos_3y]).T\n",
    "print(pos_3)"
   ]
  },
  {
   "cell_type": "code",
   "execution_count": 6,
   "metadata": {},
   "outputs": [
    {
     "name": "stdout",
     "output_type": "stream",
     "text": [
      "yes\n"
     ]
    }
   ],
   "source": [
    "a = 1 \n",
    "b = 2\n",
    "\n",
    "if a==1 and b==2:\n",
    "    print('yes')\n",
    "elif a==1:\n",
    "    print('1')\n",
    "elif b==2:\n",
    "    print('2')\n",
    "else:\n",
    "    print('no')"
   ]
  },
  {
   "cell_type": "markdown",
   "metadata": {},
   "source": [
    "# Compute hopping probabilities with neighbor particle present"
   ]
  },
  {
   "cell_type": "code",
   "execution_count": 4,
   "metadata": {},
   "outputs": [],
   "source": [
    "# from physical_units_diffusion import *"
   ]
  },
  {
   "cell_type": "code",
   "execution_count": 9,
   "metadata": {},
   "outputs": [],
   "source": [
    "def calc_time_step_ratio(energy_matrix, diffusivity_array):\n",
    "    # compute ratio of time step to grid constant squared Delta/a^2 by setting the maximum movement probability to be 1/4\n",
    "    if len(diffusivity_array) != len(energy_matrix):\n",
    "        print(\"Error: length of diffusivity array must be the same as the number of rows in the energy matrix\")\n",
    "        return\n",
    "    max_dexp = np.max(np.exp(energy_matrix) * diffusivity_array) # since energy matrix is symmetric, it is sufficient to multiply the diffusivity array, such that D1 exp(E12) and D2 exp(E12) = D2 exp(E21) are both considered\n",
    "    ratio = 1 / (5 * max_dexp)\n",
    "    return ratio\n",
    "\n",
    "# function that takes  thye ratio of time step to grid constant squared Delta/a^2 in [s/m^2] and a diffusivity in [m^2/s] and returns the probability of a particle to move in one direction and the probability to stay in the same position\n",
    "def calc_probabilities_free(ratio, diffusivity_array):\n",
    "    p_move = diffusivity_array * ratio * 1.25\n",
    "    p_stay = 1 - 4 * p_move\n",
    "    return p_move, p_stay\n",
    "\n",
    "def calc_probabilities_with_neighbor(energy_matrix, diffusivity_array):\n",
    "    ratio = calc_time_step_ratio(energy_matrix, diffusivity_array)\n",
    "    p_move_free = calc_probabilities_free(ratio, diffusivity_array)[0]\n",
    "    p_move_neighbor = np.zeros(int(len(energy_matrix) * (len(energy_matrix) - 1) / 2))\n",
    "    for i in range(len(energy_matrix)):\n",
    "        for j in range(i+1, len(energy_matrix)):\n",
    "            p_move_neighbor[i + j - 1] = p_move_free[i] * np.exp(energy_matrix[i, j])\n",
    "            print(i + j - 1, i, j)\n",
    "    return p_move_neighbor"
   ]
  },
  {
   "cell_type": "code",
   "execution_count": 10,
   "metadata": {},
   "outputs": [
    {
     "name": "stdout",
     "output_type": "stream",
     "text": [
      "0 0 1\n",
      "1 0 2\n",
      "2 1 2\n"
     ]
    },
    {
     "data": {
      "text/plain": [
       "array([0.01127794, 0.03065662, 0.16666667])"
      ]
     },
     "execution_count": 10,
     "metadata": {},
     "output_type": "execute_result"
    }
   ],
   "source": [
    "energy_matrix = np.array([[0, 1, 2], [1, 0, 3], [2, 3, 0]])\n",
    "diffusivity_array = np.array([1, 2, 3])\n",
    "calc_probabilities_with_neighbor(energy_matrix, diffusivity_array)"
   ]
  },
  {
   "cell_type": "code",
   "execution_count": null,
   "metadata": {},
   "outputs": [],
   "source": []
  }
 ],
 "metadata": {
  "kernelspec": {
   "display_name": "Python 3",
   "language": "python",
   "name": "python3"
  },
  "language_info": {
   "codemirror_mode": {
    "name": "ipython",
    "version": 3
   },
   "file_extension": ".py",
   "mimetype": "text/x-python",
   "name": "python",
   "nbconvert_exporter": "python",
   "pygments_lexer": "ipython3",
   "version": "3.9.7"
  },
  "orig_nbformat": 4
 },
 "nbformat": 4,
 "nbformat_minor": 2
}
