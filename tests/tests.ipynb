{
 "cells": [
  {
   "cell_type": "code",
   "execution_count": 1,
   "metadata": {},
   "outputs": [],
   "source": [
    "import numpy as np\n",
    "from datetime import datetime\n",
    "import os"
   ]
  },
  {
   "cell_type": "markdown",
   "metadata": {},
   "source": [
    "### Just random testing stuff"
   ]
  },
  {
   "cell_type": "code",
   "execution_count": 11,
   "metadata": {},
   "outputs": [
    {
     "name": "stdout",
     "output_type": "stream",
     "text": [
      "2023-09-23_12h-14m-33s\n",
      "/home/janmak98/Documents/masterthesis/chemokine/monte_carlo/figures/sim_2023-09-23_12h-14m-33s.mp4\n"
     ]
    }
   ],
   "source": [
    "now = datetime.now().strftime(\"%Y-%m-%d_%Hh-%Mm-%Ss\")\n",
    "print(now)\n",
    "\n",
    "outf = os.path.join(os.getcwd(), 'figures', 'sim_'+now+'.mp4')\n",
    "print(outf)"
   ]
  },
  {
   "cell_type": "code",
   "execution_count": 101,
   "metadata": {},
   "outputs": [
    {
     "name": "stdout",
     "output_type": "stream",
     "text": [
      "[[1.         1.         1.        ]\n",
      " [1.         1.62450479 1.62450479]\n",
      " [1.         2.15766928 2.15766928]\n",
      " [1.         2.63901582 2.63901582]\n",
      " [1.         3.08516931 3.08516931]]\n",
      "[[0.33333333 0.33333333 0.33333333]\n",
      " [0.23534896 0.38232552 0.38232552]\n",
      " [0.18813477 0.40593261 0.40593261]\n",
      " [0.15928559 0.4203572  0.4203572 ]\n",
      " [0.13946343 0.43026829 0.43026829]]\n",
      "[0.33333333 0.33333333 0.33333333]\n",
      "[[ 0  1]\n",
      " [ 1  0]\n",
      " [-1  1]\n",
      " [ 1 -1]\n",
      " [-1  0]\n",
      " [ 1  1]\n",
      " [ 1  0]\n",
      " [ 0 -1]\n",
      " [ 1  0]\n",
      " [ 1  0]]\n"
     ]
    }
   ],
   "source": [
    "\n",
    "particle_diffusivity = [1, 2, 3,4, 5]\n",
    "friction = np.array(particle_diffusivity)**0.7\n",
    "# print(friction)\n",
    "# print(particle_diffusivity)\n",
    "# print(np.array(particle_diffusivity))\n",
    "# uno = np.array([1,1,1], ndmin=2).T\n",
    "# print(uno)\n",
    "# prob = np.append(uno, friction.T, axis=1)\n",
    "# prob = np.append(prob, friction.T, axis=1)\n",
    "# print(prob)\n",
    "# print(np.array([np.array([1,1,1], ndmin=2).T, np.array(friction, ndmin=2).T, friction]).T)\n",
    "probabilities = np.array([np.array([1,1,1,1,1]), np.array(friction), np.array(friction)]).T\n",
    "#probabilities = np.array([[1,1,1], particle_diffusivity, particle_diffusivity]).T\n",
    "print(probabilities)\n",
    "probabilities = probabilities/np.sum(probabilities, axis=1, keepdims=True)\n",
    "\n",
    "print(probabilities)\n",
    "step_choice = np.array([0, 1, -1])\n",
    "n_particles_0 = 10\n",
    "\n",
    "step = np.random.choice(step_choice, size=(n_particles_0, 2), p=probabilities[0])\n",
    "\n",
    "print(probabilities[0])\n",
    "# print(probabilities[1].shape)\n",
    "# print(np.sum(probabilities[1]))\n",
    "print(step)"
   ]
  },
  {
   "cell_type": "code",
   "execution_count": 1,
   "metadata": {},
   "outputs": [
    {
     "ename": "NameError",
     "evalue": "name 'np' is not defined",
     "output_type": "error",
     "traceback": [
      "\u001b[0;31m---------------------------------------------------------------------------\u001b[0m",
      "\u001b[0;31mNameError\u001b[0m                                 Traceback (most recent call last)",
      "\u001b[1;32m/home/janmak98/Documents/masterthesis/chemokine/monte_carlo/tests/tests.ipynb Cell 5\u001b[0m line \u001b[0;36m1\n\u001b[0;32m----> <a href='vscode-notebook-cell://ssh-remote%2Bbunsen.physik.fu-berlin.de/home/janmak98/Documents/masterthesis/chemokine/monte_carlo/tests/tests.ipynb#W3sdnNjb2RlLXJlbW90ZQ%3D%3D?line=0'>1</a>\u001b[0m pos \u001b[39m=\u001b[39m np\u001b[39m.\u001b[39mrandom\u001b[39m.\u001b[39mrandint(\u001b[39m0\u001b[39m, \u001b[39m10\u001b[39m, size\u001b[39m=\u001b[39m(\u001b[39m10\u001b[39m, \u001b[39m2\u001b[39m))\n\u001b[1;32m      <a href='vscode-notebook-cell://ssh-remote%2Bbunsen.physik.fu-berlin.de/home/janmak98/Documents/masterthesis/chemokine/monte_carlo/tests/tests.ipynb#W3sdnNjb2RlLXJlbW90ZQ%3D%3D?line=2'>3</a>\u001b[0m \u001b[39mprint\u001b[39m(pos)\n\u001b[1;32m      <a href='vscode-notebook-cell://ssh-remote%2Bbunsen.physik.fu-berlin.de/home/janmak98/Documents/masterthesis/chemokine/monte_carlo/tests/tests.ipynb#W3sdnNjb2RlLXJlbW90ZQ%3D%3D?line=3'>4</a>\u001b[0m collagen_y \u001b[39m=\u001b[39m \u001b[39m5\u001b[39m\n",
      "\u001b[0;31mNameError\u001b[0m: name 'np' is not defined"
     ]
    }
   ],
   "source": [
    "pos = np.random.randint(0, 10, size=(10, 2))\n",
    "\n",
    "print(pos)\n",
    "collagen_y = 5\n",
    "\n",
    "idx_fixed = np.where(pos[:, 1] == collagen_y)[0]\n",
    "print(idx_fixed)\n",
    "\n",
    "print(pos[idx_fixed])\n",
    "print(idx_fixed.shape[0])"
   ]
  },
  {
   "cell_type": "code",
   "execution_count": null,
   "metadata": {},
   "outputs": [
    {
     "name": "stdout",
     "output_type": "stream",
     "text": [
      "[[ 9  1]\n",
      " [ 0  7]\n",
      " [ 2 11]\n",
      " [ 9  5]\n",
      " [ 6  6]]\n"
     ]
    }
   ],
   "source": [
    "grid_size = [10, 12]\n",
    "n_particles_3 = 5\n",
    "\n",
    "pos_3x = np.random.randint(0, grid_size[0], size=(n_particles_3))\n",
    "pos_3y = np.random.randint(0, grid_size[1], size=(n_particles_3))\n",
    "pos_3 = np.array([pos_3x, pos_3y]).T\n",
    "print(pos_3)"
   ]
  },
  {
   "cell_type": "code",
   "execution_count": 6,
   "metadata": {},
   "outputs": [
    {
     "name": "stdout",
     "output_type": "stream",
     "text": [
      "yes\n"
     ]
    }
   ],
   "source": [
    "a = 1 \n",
    "b = 2\n",
    "\n",
    "if a==1 and b==2:\n",
    "    print('yes')\n",
    "elif a==1:\n",
    "    print('1')\n",
    "elif b==2:\n",
    "    print('2')\n",
    "else:\n",
    "    print('no')"
   ]
  },
  {
   "cell_type": "markdown",
   "metadata": {},
   "source": [
    "# Compute hopping probabilities with neighbor particle present"
   ]
  },
  {
   "cell_type": "code",
   "execution_count": 4,
   "metadata": {},
   "outputs": [],
   "source": [
    "# from physical_units_diffusion import *"
   ]
  },
  {
   "cell_type": "code",
   "execution_count": 15,
   "metadata": {},
   "outputs": [],
   "source": [
    "\n",
    "# the indexing of the concentrations, diffusivities and energies has to be always in the same order, i.e. concentrations=[c1, c2, ...] then diffusivitiy_array=[D1, D2, ...]\n",
    "# function that takesin the matrix containing all binding energies in kbT and diffusivities in [m^2/s] and outputs the ratio of time step to grid constant squared Delta/a^2\n",
    "def calc_time_step_ratio(energy_matrix, diffusivity_array):\n",
    "    # compute ratio of time step to grid constant squared Delta/a^2 by setting the maximum movement probability to be 1/4\n",
    "    if len(diffusivity_array) != len(energy_matrix):\n",
    "        print(\"Error: length of diffusivity array must be the same as the number of rows in the energy matrix\")\n",
    "        return\n",
    "    max_dexp = 0 # initialize maximum product of diffusivity with exp(energy)\n",
    "    for i in range(len(energy_matrix)):\n",
    "        for j in range(i + 1, len(energy_matrix)):\n",
    "            if np.exp(energy_matrix[i, j]) * diffusivity_array[j] > max_dexp:\n",
    "                max_dexp = np.exp(energy_matrix[i, j]) * diffusivity_array[j] # maximum of occuring product\n",
    "\n",
    "    max_d = np.max(diffusivity_array)\n",
    "    max_tot = np.max([max_dexp, max_d]) # if all binding energies are negative, moving probability is higher for pure diffusion\n",
    "    ratio = 1 / (5 * max_tot)\n",
    "    return ratio\n",
    "\n",
    "# function that takes  thye ratio of time step to grid constant squared Delta/a^2 in [s/m^2] and a diffusivity in [m^2/s] and returns the probability of a particle to move in one direction and the probability to stay in the same position\n",
    "def calc_probabilities_free(ratio, diffusivity_array):\n",
    "    p_move = diffusivity_array * ratio * 1.25\n",
    "    p_stay = 1 - 4 * p_move\n",
    "    return p_move, p_stay\n",
    "\n",
    "# function computes moving probability in one direction with a neighbor present in this direction\n",
    "def calc_probabilities_with_neighbor(energy_matrix, diffusivity_array):\n",
    "    ratio = calc_time_step_ratio(energy_matrix, diffusivity_array)\n",
    "    p_move_free = calc_probabilities_free(ratio, diffusivity_array)[0]\n",
    "    p_move_neighbor = np.zeros(int(len(energy_matrix) * (len(energy_matrix) - 1) / 2))\n",
    "    # one could make a matrix in the shape of energy_matrix, but i+j-1 is also unique\n",
    "    for i in range(len(energy_matrix)):\n",
    "        for j in range(i + 1, len(energy_matrix)):\n",
    "            p_move_neighbor[i + j - 1] = p_move_free[i] * np.exp(energy_matrix[i, j])\n",
    "            # print(i + j - 1)\n",
    "    return p_move_neighbor\n",
    "\n",
    "\n",
    "\n",
    "# function taking concentrations of particle species in [mol/l], wanted number of rarest species and ratio Delta/a^2 in [s/m^2] and outputs the grid constant a in [m], the time step in [s] and the number of all species\n",
    "def calc_nspecies_gridconst(ratio, concentrations, n_min, grid_dim):\n",
    "    a_grid = (n_min / ((grid_dim[0] - 1) * (grid_dim[1] - 1) * np.min(concentrations) * 6.022e26)) ** (1/3)\n",
    "    n_species = np.int64(n_min * concentrations / np.min(concentrations))\n",
    "    time_step = ratio * a_grid**2\n",
    "    return n_species, a_grid, time_step\n",
    "\n",
    "\n",
    "# estimate diffusivity from mass of molecule in [kDa] in case no experimental diffusivity in water is given\n",
    "# input can be a numpy array or float\n",
    "def estimate_diffusivity(mass):\n",
    "    # approximate hydrodynamic radius of protein by average protein density of 1.38 g/cm^3 = 1.38 * 1e3 kg/m^3\n",
    "    # for 10kDa protein this gives a radius of 1.42 nm and at 300K a diffusion coefficient of 1.5e-10 m^2/s\n",
    "    mass_kg = mass * 1.66054e-24 #for given mas in [kDa] calculate mass in [kg]\n",
    "    r = (3 * mass_kg / (1.38 * 1e3 * 4 * np.pi)) ** (1/3) # calculate radius in [m]\n",
    "    # use stokes law D=kBT/gamma with gamma=6*pi*eta*r and water viscosity ~ 1e-3 Pa*s to calculate diffusivity in [m^2/s]\n",
    "    D = 1.38e-23 * 300 / (6 * np.pi * 1e-3 * r) \n",
    "    return D\n",
    "\n",
    "# return concentration in [mol/l] for given number of n_species particles in given grid\n",
    "# assumes volume of (n-1)a x (m-1)a x a in simulation slab\n",
    "def physical_concentration(n_species, grid_dim, a_grid):\n",
    "    concentration = n_species / ((grid_dim[0] - 1) * (grid_dim[1] - 1) * a_grid**3 * 6.022e26)\n",
    "    return concentration"
   ]
  },
  {
   "cell_type": "markdown",
   "metadata": {},
   "source": [
    "## Use random values in the right order of magnitude to get a feeling for jumping probabilities, grid size and time step"
   ]
  },
  {
   "cell_type": "code",
   "execution_count": 16,
   "metadata": {},
   "outputs": [
    {
     "name": "stdout",
     "output_type": "stream",
     "text": [
      "probs (array([1.50328852e-04, 1.94740552e-04, 9.47012423e-05, 5.53816225e-05,\n",
      "       1.19316089e-04]), array([0.99939868, 0.99922104, 0.9996212 , 0.99977847, 0.99952274]))\n",
      "probs neighbors [1.92986066e-01 1.33921091e-05 6.79934305e-05 2.37958242e-02\n",
      " 1.15715208e-04 9.35419411e-04 1.86515612e-05 0.00000000e+00\n",
      " 0.00000000e+00 0.00000000e+00]\n",
      "[ 700  100 3000 1000  200] 1.1921464774740315e-07 1.8916592075333236e-08\n",
      "[7.e-08 1.e-08 3.e-07 1.e-07 2.e-08]\n"
     ]
    }
   ],
   "source": [
    "energy_matrix = np.random.rand(25) * 6 + 4 # between 4-10\n",
    "energy_matrix = energy_matrix.reshape((5, 5))\n",
    "energy_matrix += energy_matrix.T # symmetric\n",
    "energy_matrix -= np.diagonal(energy_matrix) # no selfbinding\n",
    "diffusivity_array = estimate_diffusivity(np.array([50, 23, 200, 1000, 100]))\n",
    "\n",
    "ratio = calc_time_step_ratio(energy_matrix, diffusivity_array)\n",
    "print('probs', calc_probabilities_free(ratio, diffusivity_array))\n",
    "print('probs neighbors', calc_probabilities_with_neighbor(energy_matrix, diffusivity_array), np.max(calc_probabilities_with_neighbor(energy_matrix, diffusivity_array)))\n",
    "\n",
    "concentrations = np.array([70, 10, 300, 100, 20]) * 1e-9 #random concentrations in nanomolar\n",
    "n_min = 100\n",
    "grid_dim = (100, 100)\n",
    "n_species, a_grid, time_step = calc_nspecies_gridconst(ratio, concentrations, n_min, grid_dim)\n",
    "print(n_species, a_grid, time_step)\n",
    "\n",
    "print(physical_concentration(n_species, grid_dim, a_grid)) # reproduces input concentrations"
   ]
  },
  {
   "cell_type": "code",
   "execution_count": null,
   "metadata": {},
   "outputs": [],
   "source": []
  }
 ],
 "metadata": {
  "kernelspec": {
   "display_name": "Python 3",
   "language": "python",
   "name": "python3"
  },
  "language_info": {
   "codemirror_mode": {
    "name": "ipython",
    "version": 3
   },
   "file_extension": ".py",
   "mimetype": "text/x-python",
   "name": "python",
   "nbconvert_exporter": "python",
   "pygments_lexer": "ipython3",
   "version": "3.9.7"
  },
  "orig_nbformat": 4
 },
 "nbformat": 4,
 "nbformat_minor": 2
}
